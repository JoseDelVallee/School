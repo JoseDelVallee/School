{
  "cells": [
    {
      "cell_type": "markdown",
      "metadata": {
        "id": "view-in-github",
        "colab_type": "text"
      },
      "source": [
        "<a href=\"https://colab.research.google.com/github/JoseDelVallee/School/blob/main/Untitled0.ipynb\" target=\"_parent\"><img src=\"https://colab.research.google.com/assets/colab-badge.svg\" alt=\"Open In Colab\"/></a>"
      ]
    },
    {
      "cell_type": "code",
      "execution_count": null,
      "metadata": {
        "colab": {
          "base_uri": "https://localhost:8080/"
        },
        "id": "ySwV3QbilWDz",
        "outputId": "2b9ef81b-9a28-40d9-a4e5-ded03f02f1e3"
      },
      "outputs": [
        {
          "output_type": "stream",
          "name": "stdout",
          "text": [
            "0\n",
            "1\n",
            "2\n",
            "3\n",
            "4\n",
            "5\n",
            "6\n",
            "7\n",
            "8\n",
            "9\n",
            "\n",
            "4\n",
            "5\n",
            "9\n",
            "=)\n",
            "hola 1\n",
            "hola 2\n",
            "hola 3\n",
            "hola\n",
            "hola\n",
            "hola 6\n",
            "hola 7\n",
            "hola 8\n",
            "hola\n",
            "-10\n",
            "-8\n",
            "-6\n",
            "-4\n",
            "-2\n",
            "0\n",
            "2\n",
            "4\n"
          ]
        }
      ],
      "source": [
        "# Comentario\n",
        "for i in range(0,10):\n",
        " print (i) # la identación (espacio en blanco) define un bloque de codigo\n",
        "          #equivalente a las llaves {} en lenguaje C/C++\n",
        "print ()\n",
        "for i in range(0,10):\n",
        " if 3<i<6 or i>8:\n",
        "  print (i)\n",
        "\n",
        "for i in range(0,10):\n",
        " if 3<i<6 or i>8:\n",
        "  print ('hola')\n",
        " elif i==0:\n",
        "  print ('=)')\n",
        " else:\n",
        "  print ('hola',i)\n",
        "\n",
        "for i in range(-10,11,2):\n",
        "  if(i>4):\n",
        "   break\n",
        "  print (i)\n"
      ]
    },
    {
      "cell_type": "markdown",
      "source": [],
      "metadata": {
        "id": "JMk9BWJTtzhp"
      }
    },
    {
      "cell_type": "code",
      "source": [],
      "metadata": {
        "id": "47JJnDeyuXeg"
      },
      "execution_count": null,
      "outputs": []
    },
    {
      "cell_type": "code",
      "source": [],
      "metadata": {
        "id": "7SNdlV77uZio"
      },
      "execution_count": null,
      "outputs": []
    }
  ],
  "metadata": {
    "colab": {
      "provenance": [],
      "authorship_tag": "ABX9TyMnjS90Gk8ggy1cqtHPwWSN",
      "include_colab_link": true
    },
    "kernelspec": {
      "display_name": "Python 3",
      "name": "python3"
    },
    "language_info": {
      "name": "python"
    }
  },
  "nbformat": 4,
  "nbformat_minor": 0
}